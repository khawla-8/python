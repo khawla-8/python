{
 "cells": [
  {
   "cell_type": "code",
   "execution_count": 39,
   "id": "7497174c-a1ef-4b4e-a28b-fb280174b8b1",
   "metadata": {},
   "outputs": [
    {
     "name": "stdin",
     "output_type": "stream",
     "text": [
      "saisir un nombre entier: 3\n"
     ]
    },
    {
     "name": "stdout",
     "output_type": "stream",
     "text": [
      "le factoriel de3est : 6\n"
     ]
    }
   ],
   "source": [
    "n=int(input(\"saisir un nombre entier:\"))\n",
    "n1=n\n",
    "f=1\n",
    "while(n!=0):\n",
    "    f=f*n\n",
    "    n=n-1\n",
    "\n",
    "print(\"le factoriel de{}est : {}\".format(n1,f))"
   ]
  },
  {
   "cell_type": "code",
   "execution_count": 51,
   "id": "08935616-7db6-4639-a1c7-eea675e985c0",
   "metadata": {},
   "outputs": [
    {
     "name": "stdout",
     "output_type": "stream",
     "text": [
      "1 3 5 7 9 11 13 15 17 19 21 23 25 27 29 31 33 35 37 39 41 43 45 47 49 51 53 55 57 59 61 63 65 67 69 71 73 75 77 79 81 83 85 87 89 91 93 95 97 99 "
     ]
    }
   ],
   "source": [
    "for i in range( 1,100,2):\n",
    "    print(i,end=\" \")"
   ]
  },
  {
   "cell_type": "code",
   "execution_count": 67,
   "id": "89575926-cee0-4b0e-b683-c4fb65afb60d",
   "metadata": {},
   "outputs": [
    {
     "name": "stdin",
     "output_type": "stream",
     "text": [
      "Entrer un nombre 5\n"
     ]
    },
    {
     "name": "stdout",
     "output_type": "stream",
     "text": [
      "le factoriel de 5 est : 120\n"
     ]
    }
   ],
   "source": [
    "n=int(input(\"Entrer un nombre\"))\n",
    "f=1\n",
    "for i in range(1,n+1):\n",
    "    f*=i\n",
    "print(\"le factoriel de {} est : {}\".format(n,f))"
   ]
  },
  {
   "cell_type": "markdown",
   "id": "342c1c5c-f16a-45ac-af68-672630c3b281",
   "metadata": {},
   "source": [
    "Exercice1"
   ]
  },
  {
   "cell_type": "code",
   "execution_count": 90,
   "id": "b4d47066-6086-4d3b-9cf8-74bf680b0253",
   "metadata": {},
   "outputs": [
    {
     "name": "stdin",
     "output_type": "stream",
     "text": [
      "Entrer un nombre entier 5\n"
     ]
    },
    {
     "name": "stdout",
     "output_type": "stream",
     "text": [
      "la somme est : 15\n"
     ]
    }
   ],
   "source": [
    "n=int(input(\"Entrer un nombre entier\"))\n",
    "S=0\n",
    "for i in range(1,n+1,1):\n",
    "    S=S+i\n",
    "print(\"la somme est :\",S)"
   ]
  },
  {
   "cell_type": "code",
   "execution_count": 154,
   "id": "77dda0aa-5b9a-4c56-9de5-87003b2118aa",
   "metadata": {},
   "outputs": [
    {
     "name": "stdin",
     "output_type": "stream",
     "text": [
      "Entrer un entier 0\n",
      "Entrer un entier 5\n"
     ]
    },
    {
     "name": "stdout",
     "output_type": "stream",
     "text": [
      "l'inverse de nombre est : 0.2\n"
     ]
    }
   ],
   "source": [
    "#Exercice2:\n",
    "n=0\n",
    "while(n==0):\n",
    "    n=int(input(\"Entrer un entier\"))\n",
    "print(\"l'inverse de nombre est :\",1/n)\n"
   ]
  },
  {
   "cell_type": "code",
   "execution_count": 251,
   "id": "7d48d772-14c8-4e73-93c1-0c72c0f20cbc",
   "metadata": {},
   "outputs": [
    {
     "name": "stdin",
     "output_type": "stream",
     "text": [
      "Entrer le nombre des étudiant 2\n",
      "entrer la note 17\n",
      "entrer la note 18\n"
     ]
    },
    {
     "name": "stdout",
     "output_type": "stream",
     "text": [
      " Moyenne est : 16.0\n"
     ]
    }
   ],
   "source": [
    "### Exercice3:\n",
    "n=int(input(\"Entrer le nombre des étudiant\"))\n",
    "Somme_Note=0\n",
    "for i in range(n):\n",
    "    Note=float(input(\"entrer la note\"))\n",
    "    Somme_Note==Somme_Note + Note\n",
    "    \n",
    "Moyenne==Somme_Note/n\n",
    "print(\" Moyenne est :\",Moyenne)"
   ]
  },
  {
   "cell_type": "code",
   "execution_count": 259,
   "id": "a43e8690-50a0-4fd2-adec-1464185c0e46",
   "metadata": {},
   "outputs": [
    {
     "name": "stdin",
     "output_type": "stream",
     "text": [
      "entrer le premier nombre  -7\n",
      "entrer le deuxieme nombre  2\n"
     ]
    },
    {
     "name": "stdout",
     "output_type": "stream",
     "text": [
      "Le produit de -7 et 2 est : -14\n"
     ]
    }
   ],
   "source": [
    "#Exercice4:\n",
    "a=int(input(\"entrer le premier nombre \"))\n",
    "b=int(input(\"entrer le deuxieme nombre \"))\n",
    "produit = 0\n",
    "for i in range(b):  \n",
    "    produit += a\n",
    "if b < 0:\n",
    "    produit = -produit\n",
    "\n",
    "\n",
    "print(f\"Le produit  est : \",produit)\n"
   ]
  },
  {
   "cell_type": "code",
   "execution_count": 269,
   "id": "9953ad8f-4c13-4d90-8d3e-8184bb6d72ff",
   "metadata": {},
   "outputs": [
    {
     "name": "stdin",
     "output_type": "stream",
     "text": [
      "Entrer un nombre entier 5\n"
     ]
    },
    {
     "name": "stdout",
     "output_type": "stream",
     "text": [
      "1\n",
      "5\n"
     ]
    }
   ],
   "source": [
    "#€xercice5:\n",
    "n=int(input(\"Entrer un nombre entier\"))\n",
    "for i in range (1,n+1):\n",
    "    if n%i==0:\n",
    "        print(i)"
   ]
  },
  {
   "cell_type": "code",
   "execution_count": 364,
   "id": "0bd00c4b-8fd6-49ea-8838-ba58042ba5f3",
   "metadata": {},
   "outputs": [
    {
     "name": "stdin",
     "output_type": "stream",
     "text": [
      "Entrer un nombre entier 3\n"
     ]
    },
    {
     "name": "stdout",
     "output_type": "stream",
     "text": [
      "3*1=3\n",
      "3*2=6\n",
      "3*3=9\n",
      "3*4=12\n",
      "3*5=15\n",
      "3*6=18\n",
      "3*7=21\n",
      "3*8=24\n",
      "3*9=27\n",
      "3*10=30\n"
     ]
    }
   ],
   "source": [
    "#Exercice6: question1\n",
    "n=int(input(\"Entrer un nombre entier\"))\n",
    "for i in range(1,11):\n",
    "    print(f\"{n}*{i}={n*i}\")\n"
   ]
  },
  {
   "cell_type": "code",
   "execution_count": 374,
   "id": "e2dabefd-7b87-4077-b337-8947a3cc78ba",
   "metadata": {},
   "outputs": [
    {
     "name": "stdout",
     "output_type": "stream",
     "text": [
      "1 2 3 4 5 6 7 8 9 10 2 4 6 8 10 12 14 16 18 20 3 6 9 12 15 18 21 24 27 30 4 8 12 16 20 24 28 32 36 40 5 10 15 20 25 30 35 40 45 50 6 12 18 24 30 36 42 48 54 60 7 14 21 28 35 42 49 56 63 70 8 16 24 32 40 48 56 64 72 80 9 18 27 36 45 54 63 72 81 90 \n"
     ]
    }
   ],
   "source": [
    "#Question 2:\n",
    "\n",
    "for i in range(1,10):\n",
    "    for j in range (1,11):\n",
    "      print(i*j,end=' ')\n",
    "print()"
   ]
  },
  {
   "cell_type": "code",
   "execution_count": 47,
   "id": "674950da-8f8f-4857-9bfc-1c9e7dbd6fca",
   "metadata": {},
   "outputs": [
    {
     "name": "stdin",
     "output_type": "stream",
     "text": [
      "Entrer un nombre réel 2\n",
      "Entrer un nombre réel 5\n",
      "Entrer un nombre réel 0\n"
     ]
    },
    {
     "name": "stdout",
     "output_type": "stream",
     "text": [
      "la somme est : 7.0\n",
      "le minimum est : 2.0\n"
     ]
    }
   ],
   "source": [
    "#Exercice7:\n",
    "a=float(input(\"Entrer un nombre réel\"))\n",
    "S=0\n",
    "if (a==0):\n",
    "    print(\"erreur\")\n",
    "while(a!=0):\n",
    "        S+=a\n",
    "        if(a<minimum):\n",
    "            minimum=a\n",
    "        \n",
    "        a=float(input(\"Entrer un nombre réel\"))  \n",
    "print(\"la somme est :\",S)\n",
    "print(\"le minimum est :\",minimum)\n"
   ]
  },
  {
   "cell_type": "code",
   "execution_count": 3,
   "id": "b3c4cc8a-3c72-48d8-a156-d5cd94c8a168",
   "metadata": {},
   "outputs": [
    {
     "name": "stdin",
     "output_type": "stream",
     "text": [
      "Veuillez entrez un nombre entier 5678\n"
     ]
    },
    {
     "name": "stdout",
     "output_type": "stream",
     "text": [
      "Le nombre de chiffres dans ce nombre est: 4\n"
     ]
    }
   ],
   "source": [
    "#Exercice8\n",
    "n=int(input(\"Veuillez entrez un nombre entier\"))\n",
    "n=len(str(n))\n",
    "print(\"Le nombre de chiffres dans ce nombre est:\",n)"
   ]
  },
  {
   "cell_type": "code",
   "execution_count": 5,
   "id": "7655fed4-b433-49f0-a835-1e1571fb7602",
   "metadata": {},
   "outputs": [
    {
     "name": "stdin",
     "output_type": "stream",
     "text": [
      "Veuillez entrez un nombre entier 23\n"
     ]
    },
    {
     "name": "stdout",
     "output_type": "stream",
     "text": [
      "Le nombre en binaire est: 0b10111\n"
     ]
    }
   ],
   "source": [
    "#Exercice9 Question1\n",
    "n=int(input(\"Veuillez entrez un nombre entier\"))\n",
    "nbr_binaire=bin(n)\n",
    "print(\"Le nombre en binaire est:\",nbr_binaire)"
   ]
  },
  {
   "cell_type": "code",
   "execution_count": 13,
   "id": "f354b5c6-4a06-411a-8454-5424af73bcd9",
   "metadata": {},
   "outputs": [
    {
     "name": "stdin",
     "output_type": "stream",
     "text": [
      "Veuillez entrez un nombre binaire 11110\n"
     ]
    },
    {
     "name": "stdout",
     "output_type": "stream",
     "text": [
      "le nombre binaire en decimal est : 30\n"
     ]
    }
   ],
   "source": [
    "#Question2\n",
    "n=input(\"Veuillez entrez un nombre binaire\")\n",
    "nbr_decimal=int (n,2)\n",
    "print(\"le nombre binaire en decimal est :\",nbr_decimal)"
   ]
  },
  {
   "cell_type": "code",
   "execution_count": null,
   "id": "8719e3ce-a091-4270-b216-1952dfd2e19f",
   "metadata": {},
   "outputs": [],
   "source": [
    "#Exer"
   ]
  }
 ],
 "metadata": {
  "kernelspec": {
   "display_name": "Python [conda env:base] *",
   "language": "python",
   "name": "conda-base-py"
  },
  "language_info": {
   "codemirror_mode": {
    "name": "ipython",
    "version": 3
   },
   "file_extension": ".py",
   "mimetype": "text/x-python",
   "name": "python",
   "nbconvert_exporter": "python",
   "pygments_lexer": "ipython3",
   "version": "3.12.7"
  }
 },
 "nbformat": 4,
 "nbformat_minor": 5
}
