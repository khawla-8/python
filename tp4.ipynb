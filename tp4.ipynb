{
 "cells": [
  {
   "cell_type": "code",
   "execution_count": 9,
   "id": "57062634-595c-42d7-ac6d-f2fa0f4b8e96",
   "metadata": {},
   "outputs": [
    {
     "name": "stdout",
     "output_type": "stream",
     "text": [
      "x= 2\n",
      "x= 17\n",
      "x= 2\n",
      "x= 2\n",
      "x= 5\n",
      "x= 5\n"
     ]
    }
   ],
   "source": [
    "def f(x):\n",
    "    x = (x + 3) % 6\n",
    "    print(\"x=\", x)\n",
    "\n",
    "def g():\n",
    "    global x\n",
    "    x = (x + 3) % 6\n",
    "    print(\"x=\", x)\n",
    "\n",
    "def h(x):\n",
    "    x = (x + 3) % 6\n",
    "    print(\"x=\", x)\n",
    "    return x\n",
    "\n",
    "x = 17\n",
    "f(x)\n",
    "print(\"x=\", x)\n",
    "g()\n",
    "print(\"x=\", x)\n",
    "x = h(x)\n",
    "print(\"x=\", x)"
   ]
  },
  {
   "cell_type": "code",
   "execution_count": 25,
   "id": "5864f54f-02ac-4573-a882-c9d5db2001f2",
   "metadata": {},
   "outputs": [
    {
     "name": "stdout",
     "output_type": "stream",
     "text": [
      " minimum est: 3\n"
     ]
    }
   ],
   "source": [
    "mini = lambda a, b: a if a < b else b\n",
    "print(\" minimum est:\", mini(3,5))\n"
   ]
  },
  {
   "cell_type": "code",
   "execution_count": 23,
   "id": "3e4e9f7a-829e-4671-9ad4-3da77f6a5cfb",
   "metadata": {},
   "outputs": [
    {
     "name": "stdin",
     "output_type": "stream",
     "text": [
      "Entrer un nombre 4\n",
      "Entrer un nombre 3\n",
      "Entrer un nombre 4\n",
      "Entrer un nombre 5\n"
     ]
    },
    {
     "name": "stdout",
     "output_type": "stream",
     "text": [
      "Le minimum est :  3.0\n"
     ]
    }
   ],
   "source": [
    "a=float(input(\"Entrer un nombre\"))\n",
    "b=float(input(\"Entrer un nombre\"))\n",
    "c=float(input(\"Entrer un nombre\"))\n",
    "d=float(input(\"Entrer un nombre\"))\n",
    "def minimum(x,y,z,v):\n",
    " m=min(min(x,y), min(z,v))\n",
    " print(\"Le minimum est : \",m)\n",
    "minimum(a,b,c,d)"
   ]
  },
  {
   "cell_type": "code",
   "execution_count": 27,
   "id": "60553e81-0928-48e3-9897-cecbc65332d3",
   "metadata": {},
   "outputs": [
    {
     "name": "stdout",
     "output_type": "stream",
     "text": [
      "A = 10\n",
      "B = 5\n"
     ]
    }
   ],
   "source": [
    "A = 5\n",
    "B = 10\n",
    "\n",
    "def permute():\n",
    "    global A, B \n",
    "    A, B = B, A  \n",
    "\n",
    "permute()\n",
    "\n",
    "print(\"A =\", A) \n",
    "print(\"B =\", B)  \n"
   ]
  },
  {
   "cell_type": "code",
   "execution_count": 64,
   "id": "861e794c-4535-4462-b6fd-fdc4df6dca79",
   "metadata": {},
   "outputs": [
    {
     "name": "stdin",
     "output_type": "stream",
     "text": [
      "entrer un nombre 4\n"
     ]
    },
    {
     "name": "stdout",
     "output_type": "stream",
     "text": [
      "n= 3\n"
     ]
    }
   ],
   "source": [
    "def logarithme(a):\n",
    "   n=0\n",
    "   while 2**n <=a:\n",
    "       n=n+1\n",
    "   return n\n",
    "x=int(input(\"entrer un nombre\"))\n",
    "print(\"n=\",logarithme(x))"
   ]
  },
  {
   "cell_type": "code",
   "execution_count": 3,
   "id": "da22c98e-f578-4642-8ee6-1ed94f19d091",
   "metadata": {},
   "outputs": [
    {
     "name": "stdin",
     "output_type": "stream",
     "text": [
      "Entrez la valeur de N :  1\n"
     ]
    },
    {
     "name": "stdout",
     "output_type": "stream",
     "text": [
      "PING\n",
      "PONG\n"
     ]
    }
   ],
   "source": [
    "\n",
    "compt = 0\n",
    "N = 0  \n",
    "\n",
    "def ping():\n",
    "    global compt\n",
    "    if compt < 2 * N:\n",
    "        print(\"PING\")\n",
    "        compt += 1\n",
    "        pong()  \n",
    "\n",
    "def pong():\n",
    "    global compt\n",
    "    if compt < 2 * N:\n",
    "        print(\"PONG\")\n",
    "        compt += 1\n",
    "        ping()  \n",
    "\n",
    "if __name__ == \"__main__\":\n",
    "    \n",
    "    N = int(input(\"Entrez la valeur de N : \"))\n",
    "    \n",
    "    \n",
    "    ping()\n"
   ]
  },
  {
   "cell_type": "code",
   "execution_count": 5,
   "id": "1011b944-f955-45eb-a0e7-e331c3d18a0d",
   "metadata": {},
   "outputs": [
    {
     "name": "stdout",
     "output_type": "stream",
     "text": [
      "153 est un nombre d'Amstrong\n"
     ]
    }
   ],
   "source": [
    "def nbChiffres(N):\n",
    "    return len(str(N))\n",
    "\n",
    "def puissance(x, n):\n",
    "    return x ** n\n",
    "\n",
    "def amstrong(N):\n",
    "    if N <= 0:\n",
    "        return False\n",
    "    \n",
    "    p = nbChiffres(N)\n",
    "    somme = sum(puissance(int(chiffre), p) for chiffre in str(N))\n",
    "    \n",
    "    return somme == N\n",
    "\n",
    "N = 153\n",
    "if amstrong(N):\n",
    "    print(f\"{N} est un nombre d'Amstrong\")\n",
    "else:\n",
    "    print(f\"{N} n'est pas un nombre d'Amstrong\")\n"
   ]
  },
  {
   "cell_type": "code",
   "execution_count": 1,
   "id": "53e91117-96f1-48ca-915d-3d3d00b04343",
   "metadata": {},
   "outputs": [],
   "source": [
    "def pgcd(a, b):\n",
    "    while b:\n",
    "        a, b = b, a % b\n",
    "    return a\n"
   ]
  }
 ],
 "metadata": {
  "kernelspec": {
   "display_name": "Python [conda env:base] *",
   "language": "python",
   "name": "conda-base-py"
  },
  "language_info": {
   "codemirror_mode": {
    "name": "ipython",
    "version": 3
   },
   "file_extension": ".py",
   "mimetype": "text/x-python",
   "name": "python",
   "nbconvert_exporter": "python",
   "pygments_lexer": "ipython3",
   "version": "3.12.7"
  }
 },
 "nbformat": 4,
 "nbformat_minor": 5
}
